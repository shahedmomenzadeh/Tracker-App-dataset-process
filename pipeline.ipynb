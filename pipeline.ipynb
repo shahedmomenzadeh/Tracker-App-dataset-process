{
 "cells": [
  {
   "cell_type": "markdown",
   "id": "856d9aa6",
   "metadata": {},
   "source": [
    "# Step 0\n",
    "install packages"
   ]
  },
  {
   "cell_type": "code",
   "execution_count": null,
   "id": "375f14e1",
   "metadata": {},
   "outputs": [],
   "source": [
    "!pip install opencv-python numpy PyYAML"
   ]
  },
  {
   "cell_type": "markdown",
   "id": "a628f647",
   "metadata": {},
   "source": [
    "# Step 1: \n",
    "\n",
    "Extract .zip files in the directory"
   ]
  },
  {
   "cell_type": "code",
   "execution_count": 21,
   "id": "8c4a24ee",
   "metadata": {},
   "outputs": [
    {
     "name": "stdout",
     "output_type": "stream",
     "text": [
      "Extracted export-2025-08-26-17_56_13.zip to ./export-2025-08-26-17_56_13\n",
      "Extracted export-2025-08-30-12_12_09.zip to ./export-2025-08-30-12_12_09\n",
      "Extracted export-2025-08-30-144157.zip to ./export-2025-08-30-144157\n"
     ]
    }
   ],
   "source": [
    "# Extract all .zip files in the current directory, each to a separate folder named after the zip file (without extension)\n",
    "\n",
    "import os\n",
    "import zipfile\n",
    "\n",
    "# List all .zip files in the current directory\n",
    "for filename in os.listdir('.'):\n",
    "    if filename.endswith('.zip'):\n",
    "        folder_name = os.path.splitext(filename)[0]\n",
    "        os.makedirs(folder_name, exist_ok=True)\n",
    "        with zipfile.ZipFile(filename, 'r') as zip_ref:\n",
    "            zip_ref.extractall(folder_name)\n",
    "        print(f\"Extracted {filename} to ./{folder_name}\")"
   ]
  },
  {
   "cell_type": "markdown",
   "id": "0631989d",
   "metadata": {},
   "source": [
    "# Step 2: Data Preprocessing"
   ]
  },
  {
   "cell_type": "code",
   "execution_count": 22,
   "id": "8020a503",
   "metadata": {},
   "outputs": [
    {
     "name": "stdout",
     "output_type": "stream",
     "text": [
      "🚀 Starting Step 1: Renaming and Cleaning in directory: ./\n",
      "\n",
      "--- Processing raw folder: export-2025-08-26-17_56_13 ---\n",
      "  -> Renamed Folder: 'export-2025-08-26-17_56_13' -> 'TR_0005_1012_S1_P03'\n",
      "  -> Renaming image and label files...\n",
      "\n",
      "--- Processing raw folder: export-2025-08-30-12_12_09 ---\n",
      "  -> Renamed Folder: 'export-2025-08-30-12_12_09' -> 'TR_0044_2053_S1_P03'\n",
      "  -> Renaming image and label files...\n",
      "\n",
      "--- Processing raw folder: export-2025-08-30-144157 ---\n",
      "  -> Renamed Folder: 'export-2025-08-30-144157' -> 'TR_0157_4533_S1_P03'\n",
      "  -> Renaming image and label files...\n",
      "\n",
      "✨ Step 1 Complete!\n"
     ]
    }
   ],
   "source": [
    "!python 1_rename_dataset_files.py ./"
   ]
  },
  {
   "cell_type": "code",
   "execution_count": 23,
   "id": "120110a8",
   "metadata": {},
   "outputs": [
    {
     "name": "stdout",
     "output_type": "stream",
     "text": [
      "🚀 Starting Step 2: Adding and Propagating Pupil Masks...\n",
      "\n",
      "--- Processing folder for pupil masks: TR_0005_1012_S1_P03 ---\n",
      "  ⚠️  Warning: Pupil source file not found for 'TR_0005_1012_S1_P03'. Skipping.\n",
      "\n",
      "--- Processing folder for pupil masks: TR_0044_2053_S1_P03 ---\n",
      "  -> Adding pupil mask to Frame 1...\n",
      "  -> ✅ Updated YAML file to include 'Pupil' class.\n",
      "  -> Propagating pupil masks to subsequent frames...\n",
      "  ℹ️ Calculated scale factor from Frame 1: 0.7234\n",
      "\n",
      "--- Processing folder for pupil masks: TR_0157_4533_S1_P03 ---\n",
      "  -> Adding pupil mask to Frame 1...\n",
      "  -> ✅ Updated YAML file to include 'Pupil' class.\n",
      "  -> Propagating pupil masks to subsequent frames...\n",
      "  ℹ️ Calculated scale factor from Frame 1: 0.6714\n",
      "\n",
      "✨ Step 2 Complete!\n"
     ]
    }
   ],
   "source": [
    "!python 2_process_full_dataset.py"
   ]
  },
  {
   "cell_type": "code",
   "execution_count": 25,
   "id": "028bd51b",
   "metadata": {},
   "outputs": [
    {
     "name": "stdout",
     "output_type": "stream",
     "text": [
      "🚀 Starting Step 3: Converting YOLO datasets to COCO format...\n",
      "\n",
      "--- Skipping COCO conversion for TR_0005_1012_S1_P03 (dataset already exists) ---\n",
      "\n",
      "--- Converting to COCO: TR_0044_2053_S1_P03 ---\n",
      "  -> Copying 2532 frames and creating dataset folder...\n",
      "  ✅ Successfully created COCO dataset for TR_0044_2053_S1_P03.\n",
      "\n",
      "--- Converting to COCO: TR_0157_4533_S1_P03 ---\n",
      "  -> Copying 1493 frames and creating dataset folder...\n",
      "  ✅ Successfully created COCO dataset for TR_0157_4533_S1_P03.\n",
      "\n",
      "--- Converting to COCO: dataset ---\n",
      "  ⚠️  Skipping: Missing 'images', 'labels', or 'data.yaml'.\n",
      "\n",
      "✨ Step 3 Complete!\n"
     ]
    }
   ],
   "source": [
    "!python 3_yolo_to_coco_converter.py"
   ]
  },
  {
   "cell_type": "code",
   "execution_count": 1,
   "id": "f36f8a8a",
   "metadata": {},
   "outputs": [
    {
     "name": "stdout",
     "output_type": "stream",
     "text": [
      "🚀 Starting Step 4: Standardizing names in directory: ./dataset\n",
      "\n",
      "--- Processing folder: TR_0044_S1_P03 ---\n",
      "  ✅ Folder name appears to be already standardized. Skipping.\n",
      "\n",
      "--- Processing folder: TR_0157_S1_P03 ---\n",
      "  ✅ Folder name appears to be already standardized. Skipping.\n",
      "\n",
      "✨ Step 4 Complete!\n"
     ]
    }
   ],
   "source": [
    "!python 4_standardize_dataset_names.py"
   ]
  },
  {
   "cell_type": "markdown",
   "id": "9719b781",
   "metadata": {},
   "source": [
    "# Step 3: (Optional) Create annotated videos"
   ]
  },
  {
   "cell_type": "markdown",
   "id": "8f579f1b",
   "metadata": {},
   "source": [
    "!python create_annotated_video.py"
   ]
  }
 ],
 "metadata": {
  "kernelspec": {
   "display_name": "Python 3",
   "language": "python",
   "name": "python3"
  },
  "language_info": {
   "codemirror_mode": {
    "name": "ipython",
    "version": 3
   },
   "file_extension": ".py",
   "mimetype": "text/x-python",
   "name": "python",
   "nbconvert_exporter": "python",
   "pygments_lexer": "ipython3",
   "version": "3.12.0"
  }
 },
 "nbformat": 4,
 "nbformat_minor": 5
}
